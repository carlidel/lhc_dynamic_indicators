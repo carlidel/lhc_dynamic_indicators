{
 "cells": [
  {
   "cell_type": "code",
   "execution_count": 32,
   "metadata": {},
   "outputs": [],
   "source": [
    "import numpy as np\n",
    "import h5py\n",
    "import os\n",
    "import itertools\n",
    "from tqdm import tqdm"
   ]
  },
  {
   "cell_type": "code",
   "execution_count": 37,
   "metadata": {},
   "outputs": [],
   "source": [
    "file_list = os.listdir(\"/home/HPC/camontan/lhc_dynamic_indicators/out/htcondor_tune\")\n",
    "INDIR = \"/home/HPC/camontan/lhc_dynamic_indicators/out/htcondor_tune/\"\n",
    "OUTDIR = \"/home/HPC/camontan/lhc_dynamic_indicators/out/merged_tune/\""
   ]
  },
  {
   "cell_type": "code",
   "execution_count": 25,
   "metadata": {},
   "outputs": [],
   "source": [
    "test_file = h5py.File(\"/home/HPC/camontan/lhc_dynamic_indicators/out/htcondor_tune/tune_birkhoff_10_b1_avg_zeta_min.h5\", \"r\")"
   ]
  },
  {
   "cell_type": "code",
   "execution_count": 26,
   "metadata": {},
   "outputs": [],
   "source": [
    "idx_dict = {}\n",
    "\n",
    "for key1 in test_file[\"tune/y/\"].keys():\n",
    "    for key2 in test_file[\"tune/y/\"][key1].keys():\n",
    "        idx_dict[(key1, key2)] = np.array([])"
   ]
  },
  {
   "cell_type": "code",
   "execution_count": 27,
   "metadata": {},
   "outputs": [
    {
     "data": {
      "text/plain": [
       "{('0', '10'): array([], dtype=float64),\n",
       " ('0', '101'): array([], dtype=float64),\n",
       " ('0', '1015'): array([], dtype=float64),\n",
       " ('0', '10154'): array([], dtype=float64),\n",
       " ('0', '12'): array([], dtype=float64),\n",
       " ('0', '121'): array([], dtype=float64),\n",
       " ('0', '1212'): array([], dtype=float64),\n",
       " ('0', '12122'): array([], dtype=float64),\n",
       " ('0', '14'): array([], dtype=float64),\n",
       " ('0', '144'): array([], dtype=float64),\n",
       " ('0', '1447'): array([], dtype=float64),\n",
       " ('0', '14471'): array([], dtype=float64),\n",
       " ('0', '17'): array([], dtype=float64),\n",
       " ('0', '1727'): array([], dtype=float64),\n",
       " ('0', '17275'): array([], dtype=float64),\n",
       " ('0', '173'): array([], dtype=float64),\n",
       " ('0', '20'): array([], dtype=float64),\n",
       " ('0', '206'): array([], dtype=float64),\n",
       " ('0', '2062'): array([], dtype=float64),\n",
       " ('0', '20623'): array([], dtype=float64),\n",
       " ('0', '24'): array([], dtype=float64),\n",
       " ('0', '246'): array([], dtype=float64),\n",
       " ('0', '24619'): array([], dtype=float64),\n",
       " ('0', '2462'): array([], dtype=float64),\n",
       " ('0', '29'): array([], dtype=float64),\n",
       " ('0', '2939'): array([], dtype=float64),\n",
       " ('0', '29390'): array([], dtype=float64),\n",
       " ('0', '294'): array([], dtype=float64),\n",
       " ('0', '35'): array([], dtype=float64),\n",
       " ('0', '3508'): array([], dtype=float64),\n",
       " ('0', '35085'): array([], dtype=float64),\n",
       " ('0', '351'): array([], dtype=float64),\n",
       " ('0', '4188'): array([], dtype=float64),\n",
       " ('0', '41884'): array([], dtype=float64),\n",
       " ('0', '419'): array([], dtype=float64),\n",
       " ('0', '42'): array([], dtype=float64),\n",
       " ('0', '5'): array([], dtype=float64),\n",
       " ('0', '50'): array([], dtype=float64),\n",
       " ('0', '500'): array([], dtype=float64),\n",
       " ('0', '5000'): array([], dtype=float64),\n",
       " ('0', '50000'): array([], dtype=float64),\n",
       " ('0', '59'): array([], dtype=float64),\n",
       " ('0', '5969'): array([], dtype=float64),\n",
       " ('0', '597'): array([], dtype=float64),\n",
       " ('0', '6'): array([], dtype=float64),\n",
       " ('0', '7'): array([], dtype=float64),\n",
       " ('0', '71'): array([], dtype=float64),\n",
       " ('0', '712'): array([], dtype=float64),\n",
       " ('0', '7125'): array([], dtype=float64),\n",
       " ('0', '8'): array([], dtype=float64),\n",
       " ('0', '85'): array([], dtype=float64),\n",
       " ('0', '850'): array([], dtype=float64),\n",
       " ('0', '8506'): array([], dtype=float64),\n",
       " ('10', '20'): array([], dtype=float64),\n",
       " ('101', '202'): array([], dtype=float64),\n",
       " ('1015', '2030'): array([], dtype=float64),\n",
       " ('10154', '20308'): array([], dtype=float64),\n",
       " ('12', '24'): array([], dtype=float64),\n",
       " ('121', '242'): array([], dtype=float64),\n",
       " ('1212', '2424'): array([], dtype=float64),\n",
       " ('12122', '24244'): array([], dtype=float64),\n",
       " ('14', '28'): array([], dtype=float64),\n",
       " ('144', '288'): array([], dtype=float64),\n",
       " ('1447', '2894'): array([], dtype=float64),\n",
       " ('14471', '28942'): array([], dtype=float64),\n",
       " ('17', '34'): array([], dtype=float64),\n",
       " ('1727', '3454'): array([], dtype=float64),\n",
       " ('17275', '34550'): array([], dtype=float64),\n",
       " ('173', '346'): array([], dtype=float64),\n",
       " ('20', '40'): array([], dtype=float64),\n",
       " ('206', '412'): array([], dtype=float64),\n",
       " ('2062', '4124'): array([], dtype=float64),\n",
       " ('20623', '41246'): array([], dtype=float64),\n",
       " ('24', '48'): array([], dtype=float64),\n",
       " ('246', '492'): array([], dtype=float64),\n",
       " ('24619', '49238'): array([], dtype=float64),\n",
       " ('2462', '4924'): array([], dtype=float64),\n",
       " ('29', '58'): array([], dtype=float64),\n",
       " ('2939', '5878'): array([], dtype=float64),\n",
       " ('29390', '58780'): array([], dtype=float64),\n",
       " ('294', '588'): array([], dtype=float64),\n",
       " ('35', '70'): array([], dtype=float64),\n",
       " ('3508', '7016'): array([], dtype=float64),\n",
       " ('35085', '70170'): array([], dtype=float64),\n",
       " ('351', '702'): array([], dtype=float64),\n",
       " ('4188', '8376'): array([], dtype=float64),\n",
       " ('41884', '83768'): array([], dtype=float64),\n",
       " ('419', '838'): array([], dtype=float64),\n",
       " ('42', '84'): array([], dtype=float64),\n",
       " ('5', '10'): array([], dtype=float64),\n",
       " ('50', '100'): array([], dtype=float64),\n",
       " ('500', '1000'): array([], dtype=float64),\n",
       " ('5000', '10000'): array([], dtype=float64),\n",
       " ('50000', '100000'): array([], dtype=float64),\n",
       " ('59', '118'): array([], dtype=float64),\n",
       " ('5969', '11938'): array([], dtype=float64),\n",
       " ('597', '1194'): array([], dtype=float64),\n",
       " ('6', '12'): array([], dtype=float64),\n",
       " ('7', '14'): array([], dtype=float64),\n",
       " ('71', '142'): array([], dtype=float64),\n",
       " ('712', '1424'): array([], dtype=float64),\n",
       " ('7125', '14250'): array([], dtype=float64),\n",
       " ('8', '16'): array([], dtype=float64),\n",
       " ('85', '170'): array([], dtype=float64),\n",
       " ('850', '1700'): array([], dtype=float64),\n",
       " ('8506', '17012'): array([], dtype=float64)}"
      ]
     },
     "execution_count": 27,
     "metadata": {},
     "output_type": "execute_result"
    }
   ],
   "source": [
    "idx_dict"
   ]
  },
  {
   "cell_type": "code",
   "execution_count": 42,
   "metadata": {},
   "outputs": [
    {
     "data": {
      "text/plain": [
       "array([0.31410087, 0.314032  , 0.31395396, 0.31386484, 0.31376216,\n",
       "       0.31364266, 0.31350195, 0.31333407, 0.31313063, 0.31287964,\n",
       "       0.31256341, 0.31215516, 0.31161341, 0.31087341, 0.30983829,\n",
       "       0.3083892 , 0.30647628, 0.30431097, 0.30233211, 0.30080493,\n",
       "       0.29970924, 0.29892792, 0.29835858, 0.29793166, 0.29760247,\n",
       "       0.29734224, 0.29713207, 0.29695917, 0.29681468, 0.29669229,\n",
       "       0.29658738, 0.29649654, 0.29641718, 0.29634729, 0.29628531,\n",
       "       0.29623001, 0.29618039, 0.29613564, 0.29609511, 0.29605824,\n",
       "       0.29602458, 0.29599375, 0.29596543, 0.29593934, 0.29591525,\n",
       "       0.29589294, 0.29587226, 0.29585304, 0.29583515, 0.29581848,\n",
       "       0.29580293, 0.29578839, 0.2957748 , 0.29576209, 0.29575018,\n",
       "       0.29573902, 0.29572857, 0.29571879, 0.29570962, 0.29570103,\n",
       "       0.295693  , 0.29568549, 0.29567849, 0.29567196, 0.29566589,\n",
       "       0.29566026, 0.29565506, 0.29565027, 0.29564589, 0.29564191,\n",
       "       0.29563831, 0.2956351 , 0.29563227, 0.29562983, 0.29562777,\n",
       "       0.29562609, 0.29562481, 0.29562393, 0.29562346, 0.29562341,\n",
       "       0.29562381, 0.29562467, 0.29562601, 0.29562786, 0.29563026,\n",
       "       0.29563324, 0.29563685, 0.29564114, 0.29564616, 0.295652  ,\n",
       "       0.29565874, 0.29566646, 0.2956753 , 0.29568539, 0.29569689,\n",
       "       0.29571   , 0.29572496, 0.29574207, 0.29576168, 0.29578424])"
      ]
     },
     "execution_count": 42,
     "metadata": {},
     "output_type": "execute_result"
    }
   ],
   "source": [
    "1-test_file[\"tune/x/10/20\"][:]/(2*np.pi)"
   ]
  },
  {
   "cell_type": "code",
   "execution_count": 29,
   "metadata": {},
   "outputs": [],
   "source": [
    "example = \"tune_birkhoff_0_b1_avg_zeta_avg.h5\"\n",
    "\n",
    "HEAD = \"tune_birkhoff_\"\n",
    "MASK_LIST = [\"_b1_avg\",\"_b1_best\",\"_b1_worst\"]\n",
    "ZETA_LIST = [\"_zeta_avg\",\"_zeta_max\",\"_zeta_min\"]\n",
    "TAIL = \".h5\""
   ]
  },
  {
   "cell_type": "code",
   "execution_count": 43,
   "metadata": {},
   "outputs": [
    {
     "name": "stdout",
     "output_type": "stream",
     "text": [
      "Filename: tune_birkhoff_full_b1_avg_zeta_avg.h5\n"
     ]
    },
    {
     "name": "stderr",
     "output_type": "stream",
     "text": [
      "100%|██████████| 900/900 [00:43<00:00, 20.88it/s]\n",
      "100%|██████████| 900/900 [00:42<00:00, 21.00it/s]\n"
     ]
    },
    {
     "name": "stdout",
     "output_type": "stream",
     "text": [
      "Filename: tune_birkhoff_full_b1_avg_zeta_max.h5\n"
     ]
    },
    {
     "name": "stderr",
     "output_type": "stream",
     "text": [
      "100%|██████████| 900/900 [01:16<00:00, 11.78it/s]\n",
      "100%|██████████| 900/900 [00:42<00:00, 21.09it/s]\n"
     ]
    },
    {
     "name": "stdout",
     "output_type": "stream",
     "text": [
      "Filename: tune_birkhoff_full_b1_avg_zeta_min.h5\n"
     ]
    },
    {
     "name": "stderr",
     "output_type": "stream",
     "text": [
      "100%|██████████| 900/900 [01:15<00:00, 11.87it/s]\n",
      "100%|██████████| 900/900 [00:43<00:00, 20.89it/s]\n"
     ]
    },
    {
     "name": "stdout",
     "output_type": "stream",
     "text": [
      "Filename: tune_birkhoff_full_b1_best_zeta_avg.h5\n"
     ]
    },
    {
     "name": "stderr",
     "output_type": "stream",
     "text": [
      "100%|██████████| 900/900 [01:16<00:00, 11.80it/s]\n",
      "100%|██████████| 900/900 [00:42<00:00, 21.00it/s]\n"
     ]
    },
    {
     "name": "stdout",
     "output_type": "stream",
     "text": [
      "Filename: tune_birkhoff_full_b1_best_zeta_max.h5\n"
     ]
    },
    {
     "name": "stderr",
     "output_type": "stream",
     "text": [
      "100%|██████████| 900/900 [01:13<00:00, 12.21it/s]\n",
      "100%|██████████| 900/900 [00:43<00:00, 20.77it/s]\n"
     ]
    },
    {
     "name": "stdout",
     "output_type": "stream",
     "text": [
      "Filename: tune_birkhoff_full_b1_best_zeta_min.h5\n"
     ]
    },
    {
     "name": "stderr",
     "output_type": "stream",
     "text": [
      "100%|██████████| 900/900 [01:15<00:00, 11.88it/s]\n",
      "100%|██████████| 900/900 [00:43<00:00, 20.48it/s]\n"
     ]
    },
    {
     "name": "stdout",
     "output_type": "stream",
     "text": [
      "Filename: tune_birkhoff_full_b1_worst_zeta_avg.h5\n"
     ]
    },
    {
     "name": "stderr",
     "output_type": "stream",
     "text": [
      "100%|██████████| 900/900 [01:17<00:00, 11.65it/s]\n",
      "100%|██████████| 900/900 [00:43<00:00, 20.81it/s]\n"
     ]
    },
    {
     "name": "stdout",
     "output_type": "stream",
     "text": [
      "Filename: tune_birkhoff_full_b1_worst_zeta_max.h5\n"
     ]
    },
    {
     "name": "stderr",
     "output_type": "stream",
     "text": [
      "100%|██████████| 900/900 [01:16<00:00, 11.77it/s]\n",
      "100%|██████████| 900/900 [00:42<00:00, 21.12it/s]\n"
     ]
    },
    {
     "name": "stdout",
     "output_type": "stream",
     "text": [
      "Filename: tune_birkhoff_full_b1_worst_zeta_min.h5\n"
     ]
    },
    {
     "name": "stderr",
     "output_type": "stream",
     "text": [
      "100%|██████████| 900/900 [01:17<00:00, 11.57it/s]\n",
      "100%|██████████| 900/900 [00:43<00:00, 20.92it/s]\n"
     ]
    }
   ],
   "source": [
    "for mask, zeta in itertools.product(MASK_LIST, ZETA_LIST):\n",
    "    \n",
    "    filename = f\"{HEAD}full{mask}{zeta}{TAIL}\"\n",
    "    print(\"Filename:\", filename)\n",
    "    \n",
    "    idx_dict = {}\n",
    "    for key1 in test_file[\"tune/y/\"].keys():\n",
    "        for key2 in test_file[\"tune/y/\"][key1].keys():\n",
    "            idx_dict[(key1, key2)] = np.array([])\n",
    "    for i in tqdm(range(900)):\n",
    "        specific_filename = f\"{HEAD}{i}{mask}{zeta}{TAIL}\"\n",
    "        f_source = h5py.File(os.path.join(\"/home/HPC/camontan/lhc_dynamic_indicators/out/htcondor_tune\",specific_filename), \"r\")\n",
    "        for key1 in f_source[\"tune/y/\"].keys():\n",
    "            for key2 in f_source[\"tune/y/\"][key1].keys():\n",
    "                idx_dict[(key1, key2)] = np.append(idx_dict[(key1, key2)], f_source[\"tune/y/\"][key1][key2][:])\n",
    "    with h5py.File(os.path.join(OUTDIR,filename), \"w\") as f_target:\n",
    "        for key1 in f_source[\"tune/y/\"].keys():\n",
    "            for key2 in f_source[\"tune/y/\"][key1].keys():\n",
    "                f_target.create_dataset(f\"tune/y/{key1}/{key2}\", data=idx_dict[(key1, key2)])\n",
    "    \n",
    "    idx_dict = {}\n",
    "    for key1 in test_file[\"tune/x/\"].keys():\n",
    "        for key2 in test_file[\"tune/x/\"][key1].keys():\n",
    "            idx_dict[(key1, key2)] = np.array([])\n",
    "    for i in tqdm(range(900)):\n",
    "        specific_filename = f\"{HEAD}{i}{mask}{zeta}{TAIL}\"\n",
    "        f_source = h5py.File(os.path.join(\"/home/HPC/camontan/lhc_dynamic_indicators/out/htcondor_tune\",specific_filename), \"r\")\n",
    "        for key1 in f_source[\"tune/x/\"].keys():\n",
    "            for key2 in f_source[\"tune/x/\"][key1].keys():\n",
    "                idx_dict[(key1, key2)] = np.append(idx_dict[(key1, key2)], f_source[\"tune/x/\"][key1][key2][:])\n",
    "    with h5py.File(os.path.join(OUTDIR,filename), \"a\") as f_target:\n",
    "        for key1 in f_source[\"tune/x/\"].keys():\n",
    "            for key2 in f_source[\"tune/x/\"][key1].keys():\n",
    "                f_target.create_dataset(f\"tune/x/{key1}/{key2}\", data=idx_dict[(key1, key2)])\n",
    "    "
   ]
  },
  {
   "cell_type": "code",
   "execution_count": 40,
   "metadata": {},
   "outputs": [],
   "source": [
    "file_list = os.listdir(\"/home/HPC/camontan/lhc_dynamic_indicators/out/htcondor_tune\")\n",
    "\n",
    "for mask, zeta in itertools.product(MASK_LIST, ZETA_LIST):\n",
    "    for i in range(900):\n",
    "        if f\"{HEAD}{i}{mask}{zeta}{TAIL}\" not in file_list:\n",
    "            print(f\"{HEAD}{i}{mask}{zeta}{TAIL}\")\n",
    "            # create a file by copying the one with the same mask and zeta but i-=3\n",
    "            os.system(f\"cp {INDIR}{HEAD}{i-3}{mask}{zeta}{TAIL} {INDIR}{HEAD}{i}{mask}{zeta}{TAIL}\")\n",
    "            print(f\"cp {INDIR}{HEAD}{i-3}{mask}{zeta}{TAIL} {INDIR}{HEAD}{i}{mask}{zeta}{TAIL}\")"
   ]
  },
  {
   "cell_type": "code",
   "execution_count": null,
   "metadata": {},
   "outputs": [],
   "source": []
  }
 ],
 "metadata": {
  "kernelspec": {
   "display_name": "Python 3.9.12 ('base')",
   "language": "python",
   "name": "python3"
  },
  "language_info": {
   "codemirror_mode": {
    "name": "ipython",
    "version": 3
   },
   "file_extension": ".py",
   "mimetype": "text/x-python",
   "name": "python",
   "nbconvert_exporter": "python",
   "pygments_lexer": "ipython3",
   "version": "3.9.12"
  },
  "orig_nbformat": 4,
  "vscode": {
   "interpreter": {
    "hash": "f3023bf899be63b57b0092dfcb418df687710750732f0ded6fe0bfa97468ce8c"
   }
  }
 },
 "nbformat": 4,
 "nbformat_minor": 2
}
