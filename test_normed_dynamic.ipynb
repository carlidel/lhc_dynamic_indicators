{
 "cells": [
  {
   "cell_type": "code",
   "execution_count": 1,
   "metadata": {},
   "outputs": [],
   "source": [
    "import datetime\n",
    "import json\n",
    "import os\n",
    "import pickle\n",
    "import time\n",
    "\n",
    "import h5py\n",
    "import matplotlib.pyplot as plt\n",
    "import numpy as np\n",
    "import xobjects as xo\n",
    "import xpart as xp\n",
    "import xtrack as xt\n",
    "from tqdm import tqdm"
   ]
  },
  {
   "cell_type": "code",
   "execution_count": 2,
   "metadata": {},
   "outputs": [],
   "source": [
    "import normed_dynamic_indicators as ndi"
   ]
  },
  {
   "cell_type": "code",
   "execution_count": 3,
   "metadata": {},
   "outputs": [
    {
     "name": "stdout",
     "output_type": "stream",
     "text": [
      "Done loading line from dict.           \n"
     ]
    }
   ],
   "source": [
    "context = xo.ContextCupy()      # For CUDA GPUs\n",
    "# context = xo.ContextCpu()         # For CPU\n",
    "\n",
    "MASK_PATH = \"masks/\"\n",
    "\n",
    "selected_mask = \"mask_b1_without_bb_21.json\"\n",
    "\n",
    "with open(f\"masks/{selected_mask}\", \"r\") as fid:\n",
    "    loaded_dct = json.load(fid)\n",
    "\n",
    "line = xt.Line.from_dict(loaded_dct)\n",
    "tracker = xt.Tracker(_context=context, line=line)\n",
    "\n",
    "# Attach a reference particle to the tracker\n",
    "tracker.particle_ref = xp.Particles(mass0=xp.PROTON_MASS_EV, q0=1, p0c=7e12)\n",
    "\n",
    "twiss = tracker.twiss()"
   ]
  },
  {
   "cell_type": "code",
   "execution_count": 4,
   "metadata": {},
   "outputs": [],
   "source": [
    "disp = 1e-6\n",
    "\n",
    "particles = tracker.build_particles(\n",
    "                               zeta_norm=0, pzeta_norm=0,\n",
    "                               x_norm=np.linspace(0, 4, 10), # in sigmas\n",
    "                               y_norm=np.linspace(0, 4, 10), # in sigmas\n",
    "                               nemitt_x=2.5e-6, nemitt_y=2.5e-6, _context=context)\n",
    "\n",
    "particles_x = tracker.build_particles(\n",
    "                               zeta_norm=0, pzeta_norm=0,\n",
    "                               x_norm=np.linspace(0, 4, 10)+disp, # in sigmas\n",
    "                               y_norm=np.linspace(0, 4, 10), # in sigmas\n",
    "                               nemitt_x=2.5e-6, nemitt_y=2.5e-6, _context=context)\n",
    "\n",
    "particles_y = tracker.build_particles(\n",
    "                               zeta_norm=0, pzeta_norm=0,\n",
    "                               x_norm=np.linspace(0, 4, 10), # in sigmas\n",
    "                               y_norm=np.linspace(0, 4, 10)+disp, # in sigmas\n",
    "                               nemitt_x=2.5e-6, nemitt_y=2.5e-6, _context=context)"
   ]
  },
  {
   "cell_type": "code",
   "execution_count": 5,
   "metadata": {},
   "outputs": [
    {
     "name": "stderr",
     "output_type": "stream",
     "text": [
      "100%|██████████| 200/200 [00:18<00:00, 11.11it/s]\n"
     ]
    }
   ],
   "source": [
    "# if test.h5 exists, delete it\n",
    "if os.path.exists(\"test.h5\"):\n",
    "    os.remove(\"test.h5\")\n",
    "\n",
    "ndi.track_log_displacement_singles_birkhoff(\n",
    "    tracker,\n",
    "    twiss,\n",
    "    (2.5e-6, 2.5e-6),\n",
    "    particles,\n",
    "    [particles_x, particles_y],\n",
    "    [\"disp_x\", \"disp_y\"],\n",
    "    disp,\n",
    "    [10, 100, 200],\n",
    "    context,\n",
    "    ndi.H5pyWriter(\"test.h5\")\n",
    ")"
   ]
  },
  {
   "cell_type": "code",
   "execution_count": 6,
   "metadata": {},
   "outputs": [],
   "source": [
    "f = h5py.File(\"test.h5\", \"r\")"
   ]
  },
  {
   "cell_type": "code",
   "execution_count": 7,
   "metadata": {},
   "outputs": [
    {
     "data": {
      "text/plain": [
       "<KeysViewHDF5 ['disp_x', 'disp_y', 'reference']>"
      ]
     },
     "execution_count": 7,
     "metadata": {},
     "output_type": "execute_result"
    }
   ],
   "source": [
    "f.keys()"
   ]
  },
  {
   "cell_type": "code",
   "execution_count": 8,
   "metadata": {},
   "outputs": [
    {
     "name": "stdout",
     "output_type": "stream",
     "text": [
      "[-1.97098511e-07  1.11019803e-07  6.59674753e-06  3.45043302e-05\n",
      "  1.07515571e-04  2.49750175e-04  4.70096241e-04  7.56542466e-04\n",
      "  1.08244937e-03  1.42164069e-03]\n",
      "[8.44022658e-08 3.37709757e-07 8.00912494e-07 7.14362658e-06\n",
      " 3.27727240e-05 1.04083367e-04 2.62957070e-04 5.41503292e-04\n",
      " 9.23068630e-04 1.33295170e-03]\n"
     ]
    }
   ],
   "source": [
    "print(f[\"disp_x/log_disp_nobirk/200\"][...])\n",
    "print(f[\"disp_y/log_disp_nobirk/200\"][...])"
   ]
  },
  {
   "cell_type": "code",
   "execution_count": 9,
   "metadata": {},
   "outputs": [
    {
     "data": {
      "text/plain": [
       "array([1., 1., 1., 1., 1., 1., 1., 1., 1., 1.])"
      ]
     },
     "execution_count": 9,
     "metadata": {},
     "output_type": "execute_result"
    }
   ],
   "source": [
    "f[\"disp_x/normed_direction/x_norm/10\"][...]**2 + f[\"disp_x/normed_direction/y_norm/10\"][...]**2 + f[\"disp_x/normed_direction/px_norm/10\"][...]**2 + f[\"disp_x/normed_direction/py_norm/10\"][...]**2 + f[\"disp_x/normed_direction/zeta_norm/10\"][...]**2 + f[\"disp_x/normed_direction/pzeta_norm/10\"][...]**2"
   ]
  },
  {
   "cell_type": "code",
   "execution_count": 25,
   "metadata": {},
   "outputs": [
    {
     "name": "stdout",
     "output_type": "stream",
     "text": [
      "Tracking 10 turns... (1/3)\n",
      "Tracking 100 turns... (2/3)\n",
      "Tracking 2000 turns... (3/3)\n"
     ]
    }
   ],
   "source": [
    "particles = tracker.build_particles(\n",
    "                               zeta_norm=0, pzeta_norm=0,\n",
    "                               x_norm=np.linspace(0, 5, 20), # in sigmas\n",
    "                               y_norm=np.linspace(0, 5, 20), # in sigmas\n",
    "                               nemitt_x=2.5e-6, nemitt_y=2.5e-6, _context=context)\n",
    "\n",
    "# if test_rem.h5 exists, delete it\n",
    "if os.path.exists(\"test_rem.h5\"):\n",
    "    os.remove(\"test_rem.h5\")\n",
    "\n",
    "ndi.track_reverse_error_method(\n",
    "    tracker,\n",
    "    twiss,\n",
    "    (2.5e-6, 2.5e-6),\n",
    "    particles,\n",
    "    [10, 100, 2000],\n",
    "    context,\n",
    "    ndi.H5pyWriter(\"test_rem.h5\")\n",
    ")"
   ]
  },
  {
   "cell_type": "code",
   "execution_count": 26,
   "metadata": {},
   "outputs": [
    {
     "data": {
      "text/plain": [
       "<KeysViewHDF5 ['reference', 'reverse']>"
      ]
     },
     "execution_count": 26,
     "metadata": {},
     "output_type": "execute_result"
    }
   ],
   "source": [
    "f = h5py.File(\"test_rem.h5\", \"r\")\n",
    "f.keys()"
   ]
  },
  {
   "cell_type": "code",
   "execution_count": 27,
   "metadata": {},
   "outputs": [
    {
     "ename": "KeyError",
     "evalue": "\"Unable to open object (object '200' doesn't exist)\"",
     "output_type": "error",
     "traceback": [
      "\u001b[0;31m---------------------------------------------------------------------------\u001b[0m",
      "\u001b[0;31mKeyError\u001b[0m                                  Traceback (most recent call last)",
      "\u001b[0;32m/tmp/ipykernel_37163/1643942004.py\u001b[0m in \u001b[0;36m<module>\u001b[0;34m\u001b[0m\n\u001b[0;32m----> 1\u001b[0;31m \u001b[0mprint\u001b[0m\u001b[0;34m(\u001b[0m\u001b[0mf\u001b[0m\u001b[0;34m[\u001b[0m\u001b[0;34m\"reverse/x_norm/200\"\u001b[0m\u001b[0;34m]\u001b[0m\u001b[0;34m[\u001b[0m\u001b[0;34m...\u001b[0m\u001b[0;34m]\u001b[0m\u001b[0;34m)\u001b[0m\u001b[0;34m\u001b[0m\u001b[0;34m\u001b[0m\u001b[0m\n\u001b[0m\u001b[1;32m      2\u001b[0m \u001b[0mprint\u001b[0m\u001b[0;34m(\u001b[0m\u001b[0mf\u001b[0m\u001b[0;34m[\u001b[0m\u001b[0;34m\"reference/initial/x_norm\"\u001b[0m\u001b[0;34m]\u001b[0m\u001b[0;34m[\u001b[0m\u001b[0;34m...\u001b[0m\u001b[0;34m]\u001b[0m\u001b[0;34m)\u001b[0m\u001b[0;34m\u001b[0m\u001b[0;34m\u001b[0m\u001b[0m\n",
      "\u001b[0;32mh5py/_objects.pyx\u001b[0m in \u001b[0;36mh5py._objects.with_phil.wrapper\u001b[0;34m()\u001b[0m\n",
      "\u001b[0;32mh5py/_objects.pyx\u001b[0m in \u001b[0;36mh5py._objects.with_phil.wrapper\u001b[0;34m()\u001b[0m\n",
      "\u001b[0;32m~/anaconda3/lib/python3.9/site-packages/h5py/_hl/group.py\u001b[0m in \u001b[0;36m__getitem__\u001b[0;34m(self, name)\u001b[0m\n\u001b[1;32m    326\u001b[0m                 \u001b[0;32mraise\u001b[0m \u001b[0mValueError\u001b[0m\u001b[0;34m(\u001b[0m\u001b[0;34m\"Invalid HDF5 object reference\"\u001b[0m\u001b[0;34m)\u001b[0m\u001b[0;34m\u001b[0m\u001b[0;34m\u001b[0m\u001b[0m\n\u001b[1;32m    327\u001b[0m         \u001b[0;32melif\u001b[0m \u001b[0misinstance\u001b[0m\u001b[0;34m(\u001b[0m\u001b[0mname\u001b[0m\u001b[0;34m,\u001b[0m \u001b[0;34m(\u001b[0m\u001b[0mbytes\u001b[0m\u001b[0;34m,\u001b[0m \u001b[0mstr\u001b[0m\u001b[0;34m)\u001b[0m\u001b[0;34m)\u001b[0m\u001b[0;34m:\u001b[0m\u001b[0;34m\u001b[0m\u001b[0;34m\u001b[0m\u001b[0m\n\u001b[0;32m--> 328\u001b[0;31m             \u001b[0moid\u001b[0m \u001b[0;34m=\u001b[0m \u001b[0mh5o\u001b[0m\u001b[0;34m.\u001b[0m\u001b[0mopen\u001b[0m\u001b[0;34m(\u001b[0m\u001b[0mself\u001b[0m\u001b[0;34m.\u001b[0m\u001b[0mid\u001b[0m\u001b[0;34m,\u001b[0m \u001b[0mself\u001b[0m\u001b[0;34m.\u001b[0m\u001b[0m_e\u001b[0m\u001b[0;34m(\u001b[0m\u001b[0mname\u001b[0m\u001b[0;34m)\u001b[0m\u001b[0;34m,\u001b[0m \u001b[0mlapl\u001b[0m\u001b[0;34m=\u001b[0m\u001b[0mself\u001b[0m\u001b[0;34m.\u001b[0m\u001b[0m_lapl\u001b[0m\u001b[0;34m)\u001b[0m\u001b[0;34m\u001b[0m\u001b[0;34m\u001b[0m\u001b[0m\n\u001b[0m\u001b[1;32m    329\u001b[0m         \u001b[0;32melse\u001b[0m\u001b[0;34m:\u001b[0m\u001b[0;34m\u001b[0m\u001b[0;34m\u001b[0m\u001b[0m\n\u001b[1;32m    330\u001b[0m             raise TypeError(\"Accessing a group is done with bytes or str, \"\n",
      "\u001b[0;32mh5py/_objects.pyx\u001b[0m in \u001b[0;36mh5py._objects.with_phil.wrapper\u001b[0;34m()\u001b[0m\n",
      "\u001b[0;32mh5py/_objects.pyx\u001b[0m in \u001b[0;36mh5py._objects.with_phil.wrapper\u001b[0;34m()\u001b[0m\n",
      "\u001b[0;32mh5py/h5o.pyx\u001b[0m in \u001b[0;36mh5py.h5o.open\u001b[0;34m()\u001b[0m\n",
      "\u001b[0;31mKeyError\u001b[0m: \"Unable to open object (object '200' doesn't exist)\""
     ]
    }
   ],
   "source": [
    "print(f[\"reverse/x_norm/200\"][...])\n",
    "print(f[\"reference/initial/x_norm\"][...])"
   ]
  },
  {
   "cell_type": "code",
   "execution_count": 29,
   "metadata": {},
   "outputs": [
    {
     "data": {
      "text/plain": [
       "[<matplotlib.lines.Line2D at 0x7f14bd698880>]"
      ]
     },
     "execution_count": 29,
     "metadata": {},
     "output_type": "execute_result"
    },
    {
     "data": {
      "image/png": "[encoded data removed]",
      "text/plain": [
       "<Figure size 640x480 with 1 Axes>"
      ]
     },
     "metadata": {},
     "output_type": "display_data"
    }
   ],
   "source": [
    "plt.plot(np.sqrt((f[\"reverse/x_norm/2000\"][...] - f[\"reference/initial/x_norm\"][...]) ** 2 + (f[\"reverse/y_norm/2000\"][...] - f[\"reference/initial/y_norm\"][...]) ** 2 + (f[\"reverse/px_norm/2000\"][...] - f[\"reference/initial/px_norm\"][...]) ** 2 + (f[\"reverse/py_norm/2000\"][...] - f[\"reference/initial/py_norm\"][...]) ** 2 + (f[\"reverse/zeta_norm/2000\"][...] - f[\"reference/initial/zeta_norm\"][...]) ** 2 + (f[\"reverse/pzeta_norm/2000\"][...] - f[\"reference/initial/pzeta_norm\"][...]) ** 2))"
   ]
  },
  {
   "cell_type": "code",
   "execution_count": 13,
   "metadata": {},
   "outputs": [
    {
     "data": {
      "text/plain": [
       "array([0, 0, 0, 0, 0, 0, 0, 0, 0, 0])"
      ]
     },
     "execution_count": 13,
     "metadata": {},
     "output_type": "execute_result"
    }
   ],
   "source": [
    "particles.at_element"
   ]
  },
  {
   "cell_type": "code",
   "execution_count": 14,
   "metadata": {},
   "outputs": [
    {
     "data": {
      "text/plain": [
       "{'particle_id': array([0, 1, 2, 3, 4, 5, 6, 7, 8, 9]),\n",
       " 'at_element': array([0, 0, 0, 0, 0, 0, 0, 0, 0, 0]),\n",
       " 'x_norm': array([2.02809458e-11, 4.44343442e-01, 8.88743148e-01, 1.32952447e+00,\n",
       "        1.75589339e+00, 2.14669980e+00, 2.46779106e+00, 2.67071234e+00,\n",
       "        2.69383256e+00, 2.46713108e+00]),\n",
       " 'px_norm': array([ 5.22836660e-11, -1.00466028e-02,  1.00296165e-02,  9.02005794e-02,\n",
       "         2.59841643e-01,  5.46288261e-01,  9.71792966e-01,  1.54838851e+00,\n",
       "         2.27041352e+00,  3.10500018e+00]),\n",
       " 'y_norm': array([1.21135449e-12, 4.44487498e-01, 8.88119084e-01, 1.32473937e+00,\n",
       "        1.73964603e+00, 2.10686705e+00, 2.38791983e+00, 2.53324496e+00,\n",
       "        2.48735989e+00, 2.19752928e+00]),\n",
       " 'py_norm': array([-2.48881970e-11, -4.58722632e-03,  2.12033523e-02,  1.05348080e-01,\n",
       "         2.73601334e-01,  5.48954562e-01,  9.50034307e-01,  1.48803877e+00,\n",
       "         2.16189744e+00,  2.95126460e+00]),\n",
       " 'zeta_norm': array([-2.44521097e-12,  3.41573385e-09,  1.24800689e-08,  2.71162266e-08,\n",
       "         4.72703676e-08,  7.29205718e-08,  1.04079286e-07,  1.40758910e-07,\n",
       "         1.82899725e-07,  2.30241994e-07]),\n",
       " 'pzeta_norm': array([-1.47433935e-11,  1.08535415e-08,  4.35282723e-08,  9.77071734e-08,\n",
       "         1.73103155e-07,  2.69433012e-07,  3.86430118e-07,  5.23839289e-07,\n",
       "         6.81424767e-07,  8.58954675e-07])}"
      ]
     },
     "execution_count": 14,
     "metadata": {},
     "output_type": "execute_result"
    }
   ],
   "source": [
    "twiss.get_normalized_coordinates(particles, nemitt_x=2.5e-6, nemitt_y=2.5e-6)"
   ]
  },
  {
   "cell_type": "code",
   "execution_count": 19,
   "metadata": {},
   "outputs": [
    {
     "name": "stdout",
     "output_type": "stream",
     "text": [
      "Starting at: 2023-02-14 11:48:43.764917\n",
      "Finished at: 2023-02-14 11:49:27.519145\n",
      "Hours elapsed: 0.012153952222222222\n"
     ]
    }
   ],
   "source": [
    "particles = tracker.build_particles(\n",
    "                               zeta_norm=0, pzeta_norm=0,\n",
    "                               x_norm=np.linspace(0, 4, 10), # in sigmas\n",
    "                               y_norm=np.linspace(0, 4, 10), # in sigmas\n",
    "                               nemitt_x=2.5e-6, nemitt_y=2.5e-6, _context=context)\n",
    "\n",
    "# if test_stab.h5 exists, delete it\n",
    "if os.path.exists(\"test_stab.h5\"):\n",
    "    os.remove(\"test_stab.h5\")\n",
    "\n",
    "ndi.track_stability(\n",
    "    tracker,\n",
    "    particles,\n",
    "    2000,\n",
    "    context,\n",
    "    ndi.H5pyWriter(\"test_stab.h5\")\n",
    ")"
   ]
  },
  {
   "cell_type": "code",
   "execution_count": 20,
   "metadata": {},
   "outputs": [
    {
     "data": {
      "text/plain": [
       "<KeysViewHDF5 ['stability']>"
      ]
     },
     "execution_count": 20,
     "metadata": {},
     "output_type": "execute_result"
    }
   ],
   "source": [
    "f = h5py.File(\"test_stab.h5\", \"r\")\n",
    "f.keys()"
   ]
  },
  {
   "cell_type": "code",
   "execution_count": 21,
   "metadata": {},
   "outputs": [
    {
     "data": {
      "text/plain": [
       "array([2000, 2000, 2000, 2000, 2000, 2000, 2000, 2000, 2000, 2000])"
      ]
     },
     "execution_count": 21,
     "metadata": {},
     "output_type": "execute_result"
    }
   ],
   "source": [
    "f[\"stability\"][...]"
   ]
  },
  {
   "cell_type": "code",
   "execution_count": null,
   "metadata": {},
   "outputs": [],
   "source": []
  },
  {
   "cell_type": "code",
   "execution_count": null,
   "metadata": {},
   "outputs": [
    {
     "name": "stdout",
     "output_type": "stream",
     "text": [
      "Starting at: 2023-02-14 11:48:43.764917\n",
      "Finished at: 2023-02-14 11:49:27.519145\n",
      "Hours elapsed: 0.012153952222222222\n"
     ]
    }
   ],
   "source": [
    "particles = tracker.build_particles(\n",
    "                               zeta_norm=0, pzeta_norm=0,\n",
    "                               x_norm=np.linspace(0, 4, 10), # in sigmas\n",
    "                               y_norm=np.linspace(0, 4, 10), # in sigmas\n",
    "                               nemitt_x=2.5e-6, nemitt_y=2.5e-6, _context=context)\n",
    "\n",
    "# if test_tune.h5 exists, delete it\n",
    "if os.path.exists(\"test_tune.h5\"):\n",
    "    os.remove(\"test_tune.h5\")\n",
    "\n",
    "ndi.track_tune_birkhoff(\n",
    "    tracker,\n",
    "    twiss,\n",
    "    (2.5e-6, 2.5e-6),\n",
    "    particles,\n",
    "    [0, 0, 0, 10, 100, 1000],\n",
    "    [10, 100, 1000, 20, 200, 2000],\n",
    "    context,\n",
    "    ndi.H5pyWriter(\"test_tune.h5\")\n",
    ")"
   ]
  }
 ],
 "metadata": {
  "kernelspec": {
   "display_name": "base",
   "language": "python",
   "name": "python3"
  },
  "language_info": {
   "codemirror_mode": {
    "name": "ipython",
    "version": 3
   },
   "file_extension": ".py",
   "mimetype": "text/x-python",
   "name": "python",
   "nbconvert_exporter": "python",
   "pygments_lexer": "ipython3",
   "version": "3.9.13"
  },
  "orig_nbformat": 4,
  "vscode": {
   "interpreter": {
    "hash": "f3023bf899be63b57b0092dfcb418df687710750732f0ded6fe0bfa97468ce8c"
   }
  }
 },
 "nbformat": 4,
 "nbformat_minor": 2
}
